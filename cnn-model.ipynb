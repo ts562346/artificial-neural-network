{
 "cells": [
  {
   "cell_type": "markdown",
   "id": "8cf2f4d7",
   "metadata": {},
   "source": [
    "# Convolutional Neural Network"
   ]
  },
  {
   "cell_type": "markdown",
   "id": "6c0e884d",
   "metadata": {},
   "source": [
    "### Importing the libraries"
   ]
  },
  {
   "cell_type": "code",
   "execution_count": 1,
   "id": "1a3b05f1",
   "metadata": {},
   "outputs": [],
   "source": [
    "# libraries for dataset\n",
    "\n",
    "import tensorflow as tf\n",
    "from keras.datasets import mnist\n",
    "import numpy as np"
   ]
  },
  {
   "cell_type": "code",
   "execution_count": 3,
   "id": "cc4ab410",
   "metadata": {},
   "outputs": [],
   "source": [
    "# libraries for model\n",
    "\n",
    "import keras\n",
    "from keras.utils import to_categorical\n",
    "from keras.models import Sequential\n",
    "from keras.layers import Dense, Dropout, Flatten, Conv2D, MaxPool2D\n",
    "from keras.optimizers import RMSprop,Adam"
   ]
  },
  {
   "cell_type": "code",
   "execution_count": 4,
   "id": "72b301e2",
   "metadata": {},
   "outputs": [],
   "source": [
    "# libraries for graphing\n",
    "\n",
    "import matplotlib.pyplot as plt\n",
    "import pandas as pd"
   ]
  },
  {
   "cell_type": "markdown",
   "id": "ed101834",
   "metadata": {},
   "source": [
    "## Part 1 - Data Preprocessing"
   ]
  },
  {
   "cell_type": "code",
   "execution_count": 5,
   "id": "324d740b",
   "metadata": {},
   "outputs": [],
   "source": [
    "(X_train, y_train), (X_test, y_test) = mnist.load_data()"
   ]
  },
  {
   "cell_type": "code",
   "execution_count": 6,
   "id": "32ee96fc",
   "metadata": {},
   "outputs": [
    {
     "data": {
      "text/plain": [
       "(60000, 28, 28)"
      ]
     },
     "execution_count": 6,
     "metadata": {},
     "output_type": "execute_result"
    }
   ],
   "source": [
    "X_train.shape"
   ]
  },
  {
   "cell_type": "code",
   "execution_count": 7,
   "id": "d8c0ec8f",
   "metadata": {},
   "outputs": [
    {
     "data": {
      "text/plain": [
       "(10000, 28, 28)"
      ]
     },
     "execution_count": 7,
     "metadata": {},
     "output_type": "execute_result"
    }
   ],
   "source": [
    "X_test.shape"
   ]
  },
  {
   "cell_type": "markdown",
   "id": "35aa7fc9",
   "metadata": {},
   "source": [
    "### Preprocessing the Training set"
   ]
  },
  {
   "cell_type": "code",
   "execution_count": 8,
   "id": "9f712b84",
   "metadata": {},
   "outputs": [],
   "source": [
    "# Reshaping to 28x28x1\n",
    "X_train = X_train.reshape(-1, 28, 28, 1)"
   ]
  },
  {
   "cell_type": "code",
   "execution_count": 9,
   "id": "7bf95858",
   "metadata": {},
   "outputs": [],
   "source": [
    "X_train = X_train / 255"
   ]
  },
  {
   "cell_type": "code",
   "execution_count": 10,
   "id": "439f297d",
   "metadata": {},
   "outputs": [],
   "source": [
    "X_train = keras.utils.normalize(X_train, axis = 1)"
   ]
  },
  {
   "cell_type": "code",
   "execution_count": 11,
   "id": "37703117",
   "metadata": {},
   "outputs": [],
   "source": [
    "# convert to one-hot code\n",
    "y_train = to_categorical(y_train)"
   ]
  },
  {
   "cell_type": "code",
   "execution_count": 12,
   "id": "db4fa7da",
   "metadata": {},
   "outputs": [
    {
     "data": {
      "text/plain": [
       "(60000, 28, 28, 1)"
      ]
     },
     "execution_count": 12,
     "metadata": {},
     "output_type": "execute_result"
    }
   ],
   "source": [
    "X_train.shape"
   ]
  },
  {
   "cell_type": "markdown",
   "id": "ae813e30",
   "metadata": {},
   "source": [
    "### Preprocessing the Test set"
   ]
  },
  {
   "cell_type": "code",
   "execution_count": 40,
   "id": "0703d525",
   "metadata": {},
   "outputs": [],
   "source": [
    "# Reshaping to 28x28x1\n",
    "X_test = X_test.reshape(-1, 28, 28, 1)"
   ]
  },
  {
   "cell_type": "code",
   "execution_count": 14,
   "id": "57527c9d",
   "metadata": {},
   "outputs": [],
   "source": [
    "X_test = X_test / 255"
   ]
  },
  {
   "cell_type": "code",
   "execution_count": 15,
   "id": "38a055c5",
   "metadata": {},
   "outputs": [],
   "source": [
    "X_test = keras.utils.normalize(X_test, axis = 1)"
   ]
  },
  {
   "cell_type": "code",
   "execution_count": 16,
   "id": "e4e7f33b",
   "metadata": {},
   "outputs": [],
   "source": [
    "# convert to one-hot code\n",
    "y_test = to_categorical(y_test)"
   ]
  },
  {
   "cell_type": "code",
   "execution_count": 17,
   "id": "987e222c",
   "metadata": {},
   "outputs": [
    {
     "data": {
      "text/plain": [
       "(10000, 28, 28, 1)"
      ]
     },
     "execution_count": 17,
     "metadata": {},
     "output_type": "execute_result"
    }
   ],
   "source": [
    "X_test.shape"
   ]
  },
  {
   "cell_type": "markdown",
   "id": "5d5cb77b",
   "metadata": {},
   "source": [
    "### Printing training image with label "
   ]
  },
  {
   "cell_type": "code",
   "execution_count": 34,
   "id": "d81becc6",
   "metadata": {},
   "outputs": [
    {
     "data": {
      "image/png": "[encoded data removed]",
      "text/plain": [
       "<Figure size 432x288 with 1 Axes>"
      ]
     },
     "metadata": {
      "needs_background": "light"
     },
     "output_type": "display_data"
    }
   ],
   "source": [
    "# visualizing image\n",
    "\n",
    "img = X_train[0]\n",
    "img = img.reshape((28,28))\n",
    "plt.imshow(img,cmap='gray')\n",
    "plt.axis(\"off\")\n",
    "plt.show()"
   ]
  },
  {
   "cell_type": "code",
   "execution_count": 35,
   "id": "35b3b760",
   "metadata": {},
   "outputs": [
    {
     "data": {
      "text/plain": [
       "array([0., 0., 0., 0., 0., 1., 0., 0., 0., 0.], dtype=float32)"
      ]
     },
     "execution_count": 35,
     "metadata": {},
     "output_type": "execute_result"
    }
   ],
   "source": [
    "# label\n",
    "\n",
    "y_train[0]"
   ]
  },
  {
   "cell_type": "markdown",
   "id": "9b98a05d",
   "metadata": {},
   "source": [
    "## Part 2 - Building the CNN"
   ]
  },
  {
   "cell_type": "markdown",
   "id": "1f472f04",
   "metadata": {},
   "source": [
    "### Initialising the CNN"
   ]
  },
  {
   "cell_type": "code",
   "execution_count": 20,
   "id": "62465b2f",
   "metadata": {},
   "outputs": [],
   "source": [
    "cnn = tf.keras.models.Sequential()"
   ]
  },
  {
   "cell_type": "code",
   "execution_count": 21,
   "id": "89b1449f",
   "metadata": {},
   "outputs": [],
   "source": [
    "cnn.add(Conv2D(filters = 32, kernel_size = (3,3), padding = 'Same', \n",
    "                 activation ='relu', input_shape = (28,28,1)))"
   ]
  },
  {
   "cell_type": "code",
   "execution_count": 22,
   "id": "ec9ab2a7",
   "metadata": {},
   "outputs": [],
   "source": [
    "cnn.add(Conv2D(filters = 64, kernel_size = (3,3), padding = 'Same', \n",
    "                 activation ='relu', input_shape = (28,28,1)))"
   ]
  },
  {
   "cell_type": "code",
   "execution_count": 23,
   "id": "354e0389",
   "metadata": {},
   "outputs": [],
   "source": [
    "cnn.add(MaxPool2D(pool_size=(2,2), strides=(2,2)))\n",
    "cnn.add(Dropout(0.5))"
   ]
  },
  {
   "cell_type": "code",
   "execution_count": 24,
   "id": "8ccfa687",
   "metadata": {},
   "outputs": [],
   "source": [
    "cnn.add(Flatten())"
   ]
  },
  {
   "cell_type": "code",
   "execution_count": 25,
   "id": "a8277c1f",
   "metadata": {},
   "outputs": [],
   "source": [
    "cnn.add(Dense(128, activation = \"relu\"))\n",
    "cnn.add(Dropout(0.5))"
   ]
  },
  {
   "cell_type": "code",
   "execution_count": 26,
   "id": "62208b4d",
   "metadata": {},
   "outputs": [],
   "source": [
    "cnn.add(Dense(10, activation = \"softmax\"))"
   ]
  },
  {
   "cell_type": "code",
   "execution_count": 42,
   "id": "c495cb5e",
   "metadata": {},
   "outputs": [
    {
     "name": "stdout",
     "output_type": "stream",
     "text": [
      "Model: \"sequential\"\n",
      "_________________________________________________________________\n",
      " Layer (type)                Output Shape              Param #   \n",
      "=================================================================\n",
      " conv2d (Conv2D)             (None, 28, 28, 32)        320       \n",
      "                                                                 \n",
      " conv2d_1 (Conv2D)           (None, 28, 28, 64)        18496     \n",
      "                                                                 \n",
      " max_pooling2d (MaxPooling2D  (None, 14, 14, 64)       0         \n",
      " )                                                               \n",
      "                                                                 \n",
      " dropout (Dropout)           (None, 14, 14, 64)        0         \n",
      "                                                                 \n",
      " flatten (Flatten)           (None, 12544)             0         \n",
      "                                                                 \n",
      " dense (Dense)               (None, 128)               1605760   \n",
      "                                                                 \n",
      " dropout_1 (Dropout)         (None, 128)               0         \n",
      "                                                                 \n",
      " dense_1 (Dense)             (None, 10)                1290      \n",
      "                                                                 \n",
      "=================================================================\n",
      "Total params: 1,625,866\n",
      "Trainable params: 1,625,866\n",
      "Non-trainable params: 0\n",
      "_________________________________________________________________\n"
     ]
    }
   ],
   "source": [
    "cnn.summary()"
   ]
  },
  {
   "cell_type": "markdown",
   "id": "8d06b5a6",
   "metadata": {},
   "source": [
    "## Part 3 - Training the CNN"
   ]
  },
  {
   "cell_type": "markdown",
   "id": "4c80b2de",
   "metadata": {},
   "source": [
    "### Compiling the CNN"
   ]
  },
  {
   "cell_type": "code",
   "execution_count": 27,
   "id": "0c47a781",
   "metadata": {},
   "outputs": [],
   "source": [
    "cnn.compile(optimizer = Adam(learning_rate=0.001, beta_1=0.9, beta_2=0.999), loss = \"categorical_crossentropy\", metrics=[\"accuracy\"])"
   ]
  },
  {
   "cell_type": "markdown",
   "id": "92482d14",
   "metadata": {},
   "source": [
    "### Training the CNN on the Training set and evaluating it on the Test set"
   ]
  },
  {
   "cell_type": "code",
   "execution_count": 28,
   "id": "693e8ffb",
   "metadata": {},
   "outputs": [
    {
     "name": "stdout",
     "output_type": "stream",
     "text": [
      "Epoch 1/10\n",
      "1875/1875 [==============================] - 181s 96ms/step - loss: 0.2397 - accuracy: 0.9270 - val_loss: 0.0620 - val_accuracy: 0.9812\n",
      "Epoch 2/10\n",
      "1875/1875 [==============================] - 139s 74ms/step - loss: 0.1016 - accuracy: 0.9700 - val_loss: 0.0461 - val_accuracy: 0.9865\n",
      "Epoch 3/10\n",
      "1875/1875 [==============================] - 162s 86ms/step - loss: 0.0786 - accuracy: 0.9766 - val_loss: 0.0396 - val_accuracy: 0.9877\n",
      "Epoch 4/10\n",
      "1875/1875 [==============================] - 160s 85ms/step - loss: 0.0667 - accuracy: 0.9797 - val_loss: 0.0383 - val_accuracy: 0.9887\n",
      "Epoch 5/10\n",
      "1875/1875 [==============================] - 157s 84ms/step - loss: 0.0576 - accuracy: 0.9822 - val_loss: 0.0337 - val_accuracy: 0.9896\n",
      "Epoch 6/10\n",
      "1875/1875 [==============================] - 164s 87ms/step - loss: 0.0517 - accuracy: 0.9832 - val_loss: 0.0322 - val_accuracy: 0.9911\n",
      "Epoch 7/10\n",
      "1875/1875 [==============================] - 188s 100ms/step - loss: 0.0478 - accuracy: 0.9857 - val_loss: 0.0281 - val_accuracy: 0.9917\n",
      "Epoch 8/10\n",
      "1875/1875 [==============================] - 171s 91ms/step - loss: 0.0428 - accuracy: 0.9864 - val_loss: 0.0309 - val_accuracy: 0.9918\n",
      "Epoch 9/10\n",
      "1875/1875 [==============================] - 155s 83ms/step - loss: 0.0408 - accuracy: 0.9875 - val_loss: 0.0296 - val_accuracy: 0.9917\n",
      "Epoch 10/10\n",
      "1875/1875 [==============================] - 152s 81ms/step - loss: 0.0407 - accuracy: 0.9872 - val_loss: 0.0260 - val_accuracy: 0.9920\n"
     ]
    }
   ],
   "source": [
    "history = cnn.fit(x=X_train, y=y_train, epochs=10, batch_size=32, validation_data=(X_test, y_test))"
   ]
  },
  {
   "cell_type": "markdown",
   "id": "145cf40e",
   "metadata": {},
   "source": [
    "## Part 4 - Model evaluation"
   ]
  },
  {
   "cell_type": "code",
   "execution_count": 29,
   "id": "76aa310c",
   "metadata": {},
   "outputs": [],
   "source": [
    "cnn_history = pd.DataFrame(history.history)"
   ]
  },
  {
   "cell_type": "code",
   "execution_count": 30,
   "id": "14a24bb9",
   "metadata": {},
   "outputs": [
    {
     "data": {
      "text/html": [
       "<div>\n",
       "<style scoped>\n",
       "    .dataframe tbody tr th:only-of-type {\n",
       "        vertical-align: middle;\n",
       "    }\n",
       "\n",
       "    .dataframe tbody tr th {\n",
       "        vertical-align: top;\n",
       "    }\n",
       "\n",
       "    .dataframe thead th {\n",
       "        text-align: right;\n",
       "    }\n",
       "</style>\n",
       "<table border=\"1\" class=\"dataframe\">\n",
       "  <thead>\n",
       "    <tr style=\"text-align: right;\">\n",
       "      <th></th>\n",
       "      <th>loss</th>\n",
       "      <th>accuracy</th>\n",
       "      <th>val_loss</th>\n",
       "      <th>val_accuracy</th>\n",
       "    </tr>\n",
       "  </thead>\n",
       "  <tbody>\n",
       "    <tr>\n",
       "      <th>0</th>\n",
       "      <td>0.239725</td>\n",
       "      <td>0.926983</td>\n",
       "      <td>0.062002</td>\n",
       "      <td>0.9812</td>\n",
       "    </tr>\n",
       "    <tr>\n",
       "      <th>1</th>\n",
       "      <td>0.101641</td>\n",
       "      <td>0.969983</td>\n",
       "      <td>0.046141</td>\n",
       "      <td>0.9865</td>\n",
       "    </tr>\n",
       "    <tr>\n",
       "      <th>2</th>\n",
       "      <td>0.078553</td>\n",
       "      <td>0.976567</td>\n",
       "      <td>0.039618</td>\n",
       "      <td>0.9877</td>\n",
       "    </tr>\n",
       "    <tr>\n",
       "      <th>3</th>\n",
       "      <td>0.066740</td>\n",
       "      <td>0.979717</td>\n",
       "      <td>0.038280</td>\n",
       "      <td>0.9887</td>\n",
       "    </tr>\n",
       "    <tr>\n",
       "      <th>4</th>\n",
       "      <td>0.057589</td>\n",
       "      <td>0.982183</td>\n",
       "      <td>0.033691</td>\n",
       "      <td>0.9896</td>\n",
       "    </tr>\n",
       "    <tr>\n",
       "      <th>5</th>\n",
       "      <td>0.051749</td>\n",
       "      <td>0.983167</td>\n",
       "      <td>0.032195</td>\n",
       "      <td>0.9911</td>\n",
       "    </tr>\n",
       "    <tr>\n",
       "      <th>6</th>\n",
       "      <td>0.047836</td>\n",
       "      <td>0.985733</td>\n",
       "      <td>0.028089</td>\n",
       "      <td>0.9917</td>\n",
       "    </tr>\n",
       "    <tr>\n",
       "      <th>7</th>\n",
       "      <td>0.042794</td>\n",
       "      <td>0.986417</td>\n",
       "      <td>0.030888</td>\n",
       "      <td>0.9918</td>\n",
       "    </tr>\n",
       "    <tr>\n",
       "      <th>8</th>\n",
       "      <td>0.040794</td>\n",
       "      <td>0.987517</td>\n",
       "      <td>0.029580</td>\n",
       "      <td>0.9917</td>\n",
       "    </tr>\n",
       "    <tr>\n",
       "      <th>9</th>\n",
       "      <td>0.040733</td>\n",
       "      <td>0.987200</td>\n",
       "      <td>0.026021</td>\n",
       "      <td>0.9920</td>\n",
       "    </tr>\n",
       "  </tbody>\n",
       "</table>\n",
       "</div>"
      ],
      "text/plain": [
       "       loss  accuracy  val_loss  val_accuracy\n",
       "0  0.239725  0.926983  0.062002        0.9812\n",
       "1  0.101641  0.969983  0.046141        0.9865\n",
       "2  0.078553  0.976567  0.039618        0.9877\n",
       "3  0.066740  0.979717  0.038280        0.9887\n",
       "4  0.057589  0.982183  0.033691        0.9896\n",
       "5  0.051749  0.983167  0.032195        0.9911\n",
       "6  0.047836  0.985733  0.028089        0.9917\n",
       "7  0.042794  0.986417  0.030888        0.9918\n",
       "8  0.040794  0.987517  0.029580        0.9917\n",
       "9  0.040733  0.987200  0.026021        0.9920"
      ]
     },
     "execution_count": 30,
     "metadata": {},
     "output_type": "execute_result"
    }
   ],
   "source": [
    "cnn_history"
   ]
  },
  {
   "cell_type": "code",
   "execution_count": 31,
   "id": "dfa0b035",
   "metadata": {},
   "outputs": [
    {
     "data": {
      "text/plain": [
       "<AxesSubplot:>"
      ]
     },
     "execution_count": 31,
     "metadata": {},
     "output_type": "execute_result"
    },
    {
     "data": {
      "image/png": "[encoded data removed]",
      "text/plain": [
       "<Figure size 432x288 with 1 Axes>"
      ]
     },
     "metadata": {
      "needs_background": "light"
     },
     "output_type": "display_data"
    }
   ],
   "source": [
    "cnn_history[['loss','val_loss']].plot()"
   ]
  },
  {
   "cell_type": "markdown",
   "id": "4768e065",
   "metadata": {},
   "source": [
    "### A loss and validation loss curve are created, and the results are looking good. From the loss curve we can see that immediately as the model is run the loss is high, however it gradually decreases by the end of the last epoch, since the model is better trained. Loss for validation is constant, but slightly decreasing as seen from the graph."
   ]
  },
  {
   "cell_type": "code",
   "execution_count": 43,
   "id": "81f8d2cb",
   "metadata": {},
   "outputs": [
    {
     "data": {
      "text/plain": [
       "<AxesSubplot:>"
      ]
     },
     "execution_count": 43,
     "metadata": {},
     "output_type": "execute_result"
    },
    {
     "data": {
      "image/png": "[encoded data removed]",
      "text/plain": [
       "<Figure size 432x288 with 1 Axes>"
      ]
     },
     "metadata": {
      "needs_background": "light"
     },
     "output_type": "display_data"
    }
   ],
   "source": [
    "cnn_history[['accuracy','val_accuracy']].plot()"
   ]
  },
  {
   "cell_type": "markdown",
   "id": "3b234a33",
   "metadata": {},
   "source": [
    "### An accuracy and validation accuracy curve are created, and the results are looking good. The model even passed with a 99.2% accuracy, which is very high. From the accuracy curve we can see that immediately as the model is run the accuracy is low, however it gradually increases by the end of the last epoch, since the model is better trained. Accuracy for validation is constant, but slightly increasing as seen from the graph."
   ]
  },
  {
   "cell_type": "markdown",
   "id": "db6b63f6",
   "metadata": {},
   "source": [
    "## Part 5 - Making a single prediction"
   ]
  },
  {
   "cell_type": "code",
   "execution_count": 37,
   "id": "ba982b00",
   "metadata": {},
   "outputs": [
    {
     "data": {
      "image/png": "[encoded data removed]",
      "text/plain": [
       "<Figure size 432x288 with 1 Axes>"
      ]
     },
     "metadata": {
      "needs_background": "light"
     },
     "output_type": "display_data"
    }
   ],
   "source": [
    "img = X_test[2]\n",
    "img = img.reshape((28,28))\n",
    "plt.imshow(img,cmap='gray')\n",
    "plt.axis(\"off\")\n",
    "plt.show()"
   ]
  },
  {
   "cell_type": "code",
   "execution_count": 38,
   "id": "55d773e2",
   "metadata": {},
   "outputs": [
    {
     "data": {
      "text/plain": [
       "array([0., 1., 0., 0., 0., 0., 0., 0., 0., 0.], dtype=float32)"
      ]
     },
     "execution_count": 38,
     "metadata": {},
     "output_type": "execute_result"
    }
   ],
   "source": [
    "y_test[2]"
   ]
  },
  {
   "cell_type": "code",
   "execution_count": 39,
   "id": "d6f35f08",
   "metadata": {},
   "outputs": [
    {
     "name": "stdout",
     "output_type": "stream",
     "text": [
      "1/1 [==============================] - 0s 27ms/step\n",
      "[[0 1 0 0 0 0 0 0 0 0]]\n"
     ]
    }
   ],
   "source": [
    "predict_x= cnn.predict(img.reshape(-1,28,28,1))\n",
    "predict_x= (predict_x > .5).astype(int)\n",
    "print(predict_x)"
   ]
  }
 ],
 "metadata": {
  "kernelspec": {
   "display_name": "Python 3 (ipykernel)",
   "language": "python",
   "name": "python3"
  },
  "language_info": {
   "codemirror_mode": {
    "name": "ipython",
    "version": 3
   },
   "file_extension": ".py",
   "mimetype": "text/x-python",
   "name": "python",
   "nbconvert_exporter": "python",
   "pygments_lexer": "ipython3",
   "version": "3.9.13"
  }
 },
 "nbformat": 4,
 "nbformat_minor": 5
}
